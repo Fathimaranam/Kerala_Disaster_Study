{
 "cells": [
  {
   "cell_type": "code",
   "execution_count": null,
   "id": "a715e9a2-eb04-4bdf-8e4e-7be6639b2b33",
   "metadata": {},
   "outputs": [],
   "source": [
    "“This project focuses on Kerala’s escalating climate hazards, using the 2018 floods dataset as a starting point.\n",
    "In later stages, I aim to compare it with the 2024 Wayanad landslide to assess rainfall thresholds, early warning gaps,\n",
    "and land-use vulnerabilities.”"
   ]
  },
  {
   "cell_type": "code",
   "execution_count": 1,
   "id": "fe28a37c-f3b2-47b7-9c0d-0e6dbcda8b12",
   "metadata": {},
   "outputs": [
    {
     "name": "stdout",
     "output_type": "stream",
     "text": [
      "Dataset Info:\n",
      "<class 'pandas.core.frame.DataFrame'>\n",
      "RangeIndex: 14 entries, 0 to 13\n",
      "Data columns (total 7 columns):\n",
      " #   Column                 Non-Null Count  Dtype  \n",
      "---  ------                 --------------  -----  \n",
      " 0   district               14 non-null     object \n",
      " 1   fatalities             14 non-null     int64  \n",
      " 2   no_of_camps            14 non-null     int64  \n",
      " 3   actual_rainfall_in_mm  14 non-null     float64\n",
      " 4   normal_rainfall_in_mm  14 non-null     float64\n",
      " 5   no_of_landslides       14 non-null     int64  \n",
      " 6   full_damaged_houses    14 non-null     int64  \n",
      "dtypes: float64(2), int64(4), object(1)\n",
      "memory usage: 916.0+ bytes\n",
      "None\n",
      "\n",
      "Dataset Summary:\n",
      "       fatalities  no_of_camps  actual_rainfall_in_mm  normal_rainfall_in_mm  \\\n",
      "count   14.000000    14.000000              14.000000              14.000000   \n",
      "mean    24.214286   875.214286             773.307143             417.950000   \n",
      "std     23.344176  1201.089709             260.248297             133.874509   \n",
      "min      1.000000     2.000000             373.800000             142.000000   \n",
      "25%      6.000000   165.750000             638.700000             345.500000   \n",
      "50%     15.000000   381.000000             700.000000             398.300000   \n",
      "75%     39.750000  1331.750000             845.600000             520.700000   \n",
      "max     72.000000  4352.000000            1478.900000             636.300000   \n",
      "\n",
      "       no_of_landslides  full_damaged_houses  \n",
      "count         14.000000            14.000000  \n",
      "mean          23.642857           737.071429  \n",
      "std           37.300458           849.385159  \n",
      "min            0.000000             3.000000  \n",
      "25%            0.500000           108.000000  \n",
      "50%           13.000000           557.500000  \n",
      "75%           28.250000          1023.750000  \n",
      "max          143.000000          2889.000000  \n",
      "\n",
      "Missing values per column:\n",
      "district                 0\n",
      "fatalities               0\n",
      "no_of_camps              0\n",
      "actual_rainfall_in_mm    0\n",
      "normal_rainfall_in_mm    0\n",
      "no_of_landslides         0\n",
      "full_damaged_houses      0\n",
      "dtype: int64\n",
      "\n",
      "First 5 rows of dataset:\n",
      "             district  fatalities  no_of_camps  actual_rainfall_in_mm  \\\n",
      "0  Thiruvananthapuram          11           94                  373.8   \n",
      "1              Kollam           5          168                  644.1   \n",
      "2      Pathanamthitta           3         4352                  764.9   \n",
      "3           Alappuzha          43         2126                  608.2   \n",
      "4            Kottayam          14          788                  619.2   \n",
      "\n",
      "   normal_rainfall_in_mm  no_of_landslides  full_damaged_houses  \n",
      "0                  142.0                 0                  111  \n",
      "1                  258.7                 2                   95  \n",
      "2                  352.7                 8                  741  \n",
      "3                  343.1                 0                 2075  \n",
      "4                  386.0                29                   76  \n"
     ]
    }
   ],
   "source": [
    "# Step 1: Import necessary libraries\n",
    "import pandas as pd\n",
    "\n",
    "# Step 2: Load the dataset\n",
    "data = pd.read_csv(\"C:/Users/Lenovo X1 carbon/Downloads/district_wise_details.csv\")\n",
    "\n",
    "# Step 3a: Dataset Info\n",
    "print(\"Dataset Info:\")\n",
    "print(data.info())\n",
    "\n",
    "# Step 3b: Dataset Summary (numerical stats)\n",
    "print(\"\\nDataset Summary:\")\n",
    "print(data.describe())\n",
    "\n",
    "# Step 3c: Check for missing values\n",
    "print(\"\\nMissing values per column:\")\n",
    "print(data.isnull().sum())\n",
    "\n",
    "# Optional: Display first few rows\n",
    "print(\"\\nFirst 5 rows of dataset:\")\n",
    "print(data.head())\n"
   ]
  },
  {
   "cell_type": "code",
   "execution_count": null,
   "id": "baed58d8-2aa0-4104-88f7-86153edc7b23",
   "metadata": {},
   "outputs": [],
   "source": []
  }
 ],
 "metadata": {
  "kernelspec": {
   "display_name": "Python 3 (ipykernel)",
   "language": "python",
   "name": "python3"
  },
  "language_info": {
   "codemirror_mode": {
    "name": "ipython",
    "version": 3
   },
   "file_extension": ".py",
   "mimetype": "text/x-python",
   "name": "python",
   "nbconvert_exporter": "python",
   "pygments_lexer": "ipython3",
   "version": "3.13.5"
  }
 },
 "nbformat": 4,
 "nbformat_minor": 5
}
